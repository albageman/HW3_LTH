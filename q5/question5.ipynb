{
 "cells": [
  {
   "cell_type": "code",
   "execution_count": 1,
   "id": "50ebb225",
   "metadata": {},
   "outputs": [
    {
     "name": "stdout",
     "output_type": "stream",
     "text": [
      "undergrowth; the in bent it where To could I as far as one down looked And stood I long traveler, one be And both travel not could I sorry And wood, yellow a in diverged roads Two \n",
      "result. your Screenshot – same, the about really them worn Had there passing the that for as Though wear; wanted and grassy was it Because claim, better the perhaps having And fair, as just as other, the took Then \n"
     ]
    }
   ],
   "source": [
    "def reverse_words(str):\n",
    "    tmplist = str.split(\" \")\n",
    "    tmpstr = \"\"\n",
    "    for i in tmplist[::-1]:\n",
    "        tmpstr += i+\" \"\n",
    "    print(tmpstr)\n",
    "def main():\n",
    "    str1 = \"Two roads diverged in a yellow wood, And sorry I could not travel both And be one traveler, long I stood And looked down one as far as I could To where it bent in the undergrowth;\"\n",
    "    str2 = \"Then took the other, as just as fair, And having perhaps the better claim, Because it was grassy and wanted wear; Though as for that the passing there Had worn them really about the same, – Screenshot your result.\" \n",
    "    reverse_words(str1)\n",
    "    reverse_words(str2)\n",
    "    \n",
    "    \n",
    "if __name__ == '__main__':\n",
    "    main()"
   ]
  }
 ],
 "metadata": {
  "kernelspec": {
   "display_name": "Python 3 (ipykernel)",
   "language": "python",
   "name": "python3"
  },
  "language_info": {
   "codemirror_mode": {
    "name": "ipython",
    "version": 3
   },
   "file_extension": ".py",
   "mimetype": "text/x-python",
   "name": "python",
   "nbconvert_exporter": "python",
   "pygments_lexer": "ipython3",
   "version": "3.10.10"
  }
 },
 "nbformat": 4,
 "nbformat_minor": 5
}
